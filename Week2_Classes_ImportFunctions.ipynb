{
 "cells": [
  {
   "cell_type": "code",
   "execution_count": 5,
   "id": "214c57e5-7ba7-4d13-b744-baeed2bbbae2",
   "metadata": {},
   "outputs": [
    {
     "name": "stdout",
     "output_type": "stream",
     "text": [
      "Sub-fields in AI are : \n",
      "Machine Learning\n",
      "Neural Networks\n",
      "Vision\n",
      "Robotics\n",
      "Speech Processing\n",
      "Natural Language Processing\n"
     ]
    }
   ],
   "source": [
    "#Importing the class FunctionsLibrary from the file FunctionsLibrary to access its functions\n",
    "from FunctionsLibrary import FunctionsLibrary \n",
    "\n",
    "#Function Call 1\n",
    "FunctionsLibrary.Subfields()\n",
    "\n"
   ]
  },
  {
   "cell_type": "code",
   "execution_count": 15,
   "id": "cb92745e-dc8a-4cb3-85f4-5aaa86ae20eb",
   "metadata": {},
   "outputs": [
    {
     "name": "stdout",
     "output_type": "stream",
     "text": [
      "58  is Even number\n"
     ]
    }
   ],
   "source": [
    "#Function Call 2\n",
    "FunctionsLibrary.OddOrEven(58)\n",
    "\n"
   ]
  },
  {
   "cell_type": "code",
   "execution_count": 17,
   "id": "a33e6f72-4a98-4d4c-bab9-4f1a6ee9f57c",
   "metadata": {},
   "outputs": [
    {
     "name": "stdout",
     "output_type": "stream",
     "text": [
      "Eligible to get married\n"
     ]
    }
   ],
   "source": [
    "#Function Call 3\n",
    "FunctionsLibrary.MarriageEligibilityChecker(20,\"Female\")\n",
    "\n"
   ]
  },
  {
   "cell_type": "code",
   "execution_count": 19,
   "id": "ee930e0c-98e8-4f08-ba71-5eb643de62e1",
   "metadata": {},
   "outputs": [
    {
     "name": "stdout",
     "output_type": "stream",
     "text": [
      "Total :  350\n",
      "Percentage :  70.0\n"
     ]
    }
   ],
   "source": [
    "#Function Call 4\n",
    "FunctionsLibrary.MarkListCalculator(50,60,70,80,90)"
   ]
  },
  {
   "cell_type": "code",
   "execution_count": 21,
   "id": "dc19f98e-e073-4dcb-b395-aea9d90c82db",
   "metadata": {},
   "outputs": [
    {
     "name": "stdout",
     "output_type": "stream",
     "text": [
      "Area of triangle :  25.0\n"
     ]
    }
   ],
   "source": [
    "#Function Call 5\n",
    "#Passing height and breadth to calculate Area of Triangle\n",
    "print(\"Area of triangle : \", FunctionsLibrary.CalculateArea(10,5) )\n",
    "\n"
   ]
  },
  {
   "cell_type": "code",
   "execution_count": 22,
   "id": "c764a4f9-fdcd-4e5a-a2ba-480942e26695",
   "metadata": {},
   "outputs": [
    {
     "name": "stdout",
     "output_type": "stream",
     "text": [
      "Perimeter of triangle :  30\n"
     ]
    }
   ],
   "source": [
    "#Function Call 6\n",
    "#Passing height1,height2 and breadth to calculate Perimeter of Triangle\n",
    "print(\"Perimeter of triangle : \",FunctionsLibrary.CalculatePerimeter(5,10,15) )"
   ]
  },
  {
   "cell_type": "code",
   "execution_count": null,
   "id": "ddbe839b-d625-4533-9dc0-81478e1603ff",
   "metadata": {},
   "outputs": [],
   "source": []
  }
 ],
 "metadata": {
  "kernelspec": {
   "display_name": "Python 3 (ipykernel)",
   "language": "python",
   "name": "python3"
  },
  "language_info": {
   "codemirror_mode": {
    "name": "ipython",
    "version": 3
   },
   "file_extension": ".py",
   "mimetype": "text/x-python",
   "name": "python",
   "nbconvert_exporter": "python",
   "pygments_lexer": "ipython3",
   "version": "3.12.7"
  }
 },
 "nbformat": 4,
 "nbformat_minor": 5
}
