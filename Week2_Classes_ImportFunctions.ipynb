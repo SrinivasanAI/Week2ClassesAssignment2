{
 "cells": [
  {
   "cell_type": "code",
   "execution_count": 5,
   "id": "214c57e5-7ba7-4d13-b744-baeed2bbbae2",
   "metadata": {},
   "outputs": [
    {
     "name": "stdout",
     "output_type": "stream",
     "text": [
      "Sub-fields in AI are : \n",
      "Machine Learning\n",
      "Neural Networks\n",
      "Vision\n",
      "Robotics\n",
      "Speech Processing\n",
      "Natural Language Processing\n"
     ]
    }
   ],
   "source": [
    "#Importing the class FunctionsLibrary from the file FunctionsLibrary to access its functions\n",
    "from FunctionsLibrary import FunctionsLibrary \n",
    "\n",
    "#Function Call 1\n",
    "FunctionsLibrary.Subfields()\n",
    "\n"
   ]
  },
  {
   "cell_type": "code",
   "execution_count": 7,
   "id": "cb92745e-dc8a-4cb3-85f4-5aaa86ae20eb",
   "metadata": {},
   "outputs": [
    {
     "name": "stdin",
     "output_type": "stream",
     "text": [
      "Enter a number :  58\n"
     ]
    },
    {
     "name": "stdout",
     "output_type": "stream",
     "text": [
      "58  is Even number\n"
     ]
    }
   ],
   "source": [
    "#Function Call 2\n",
    "num = int(input(\"Enter a number : \"))\n",
    "FunctionsLibrary.OddOrEven(num)\n",
    "\n"
   ]
  },
  {
   "cell_type": "code",
   "execution_count": 11,
   "id": "a33e6f72-4a98-4d4c-bab9-4f1a6ee9f57c",
   "metadata": {},
   "outputs": [
    {
     "name": "stdin",
     "output_type": "stream",
     "text": [
      "Enter your age :  20\n",
      "Enter your gender (Male/Female) :  female\n"
     ]
    },
    {
     "name": "stdout",
     "output_type": "stream",
     "text": [
      "Eligible to get married\n"
     ]
    }
   ],
   "source": [
    "#Function Call 3\n",
    "age = int( input(\"Enter your age : \"))\n",
    "gender = input(\"Enter your gender (Male/Female) : \" )\n",
    "FunctionsLibrary.MarriageEligibilityChecker(age,gender)\n",
    "\n"
   ]
  },
  {
   "cell_type": "code",
   "execution_count": 12,
   "id": "ee930e0c-98e8-4f08-ba71-5eb643de62e1",
   "metadata": {},
   "outputs": [
    {
     "name": "stdin",
     "output_type": "stream",
     "text": [
      "Enter Tamil marks :  50\n",
      "Enter English marks :  60\n",
      "Enter Maths marks :  70\n",
      "Enter Science marks :  80\n",
      "Enter Social Science marks :  90\n"
     ]
    },
    {
     "name": "stdout",
     "output_type": "stream",
     "text": [
      "Total :  350\n",
      "Percentage :  70.0\n"
     ]
    }
   ],
   "source": [
    "#Function Call 4\n",
    "tamil = int ( input(\"Enter Tamil marks : \") )\n",
    "english = int ( input(\"Enter English marks : \") )\n",
    "maths = int ( input(\"Enter Maths marks : \" ) )\n",
    "science = int ( input(\"Enter Science marks : \") )\n",
    "social = int ( input(\"Enter Social Science marks : \") )\n",
    "FunctionsLibrary.MarkListCalculator(tamil,english,maths,science,social)\n",
    "\n"
   ]
  },
  {
   "cell_type": "code",
   "execution_count": 13,
   "id": "dc19f98e-e073-4dcb-b395-aea9d90c82db",
   "metadata": {},
   "outputs": [
    {
     "name": "stdin",
     "output_type": "stream",
     "text": [
      "Enter height 10\n",
      "Enter width  5\n"
     ]
    },
    {
     "name": "stdout",
     "output_type": "stream",
     "text": [
      "Height :  10\n",
      "Breadth :  5\n",
      "Area of triangle :  25.0\n"
     ]
    }
   ],
   "source": [
    "#Function Call 5\n",
    "#Getting Inputs to calculate Area\n",
    "height = int ( input(\"Enter height\") )\n",
    "breadth  = int ( input(\"Enter width \") )\n",
    "#Function Call to calculate Area\n",
    "print(\"Height : \", height)\n",
    "print(\"Breadth : \", breadth)\n",
    "print(\"Area of triangle : \", FunctionsLibrary.CalculateArea(height,breadth) )\n",
    "\n"
   ]
  },
  {
   "cell_type": "code",
   "execution_count": 14,
   "id": "c764a4f9-fdcd-4e5a-a2ba-480942e26695",
   "metadata": {},
   "outputs": [
    {
     "name": "stdin",
     "output_type": "stream",
     "text": [
      "Enter height1 5\n",
      "Enter height2 10\n",
      "Enter breadth  15\n"
     ]
    },
    {
     "name": "stdout",
     "output_type": "stream",
     "text": [
      "Height1 :  5\n",
      "Height2 :  10\n",
      "Breadth :  15\n",
      "Perimeter of triangle :  30\n"
     ]
    }
   ],
   "source": [
    "#Function Call 6\n",
    "#Getting Inputs to calculate Perimeter\n",
    "height1 = int ( input(\"Enter height1\") )\n",
    "height2 = int ( input(\"Enter height2\") )\n",
    "breadth  = int ( input(\"Enter breadth \") )\n",
    "#Function Call to calculate Perimeter\n",
    "print(\"Height1 : \", height1)\n",
    "print(\"Height2 : \", height2)\n",
    "print(\"Breadth : \", breadth)\n",
    "print(\"Perimeter of triangle : \",FunctionsLibrary.CalculatePerimeter(height1,height2,breadth) )"
   ]
  },
  {
   "cell_type": "code",
   "execution_count": null,
   "id": "ddbe839b-d625-4533-9dc0-81478e1603ff",
   "metadata": {},
   "outputs": [],
   "source": []
  }
 ],
 "metadata": {
  "kernelspec": {
   "display_name": "Python 3 (ipykernel)",
   "language": "python",
   "name": "python3"
  },
  "language_info": {
   "codemirror_mode": {
    "name": "ipython",
    "version": 3
   },
   "file_extension": ".py",
   "mimetype": "text/x-python",
   "name": "python",
   "nbconvert_exporter": "python",
   "pygments_lexer": "ipython3",
   "version": "3.12.7"
  }
 },
 "nbformat": 4,
 "nbformat_minor": 5
}
